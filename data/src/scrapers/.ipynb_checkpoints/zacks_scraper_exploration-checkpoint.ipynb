{
 "cells": [
  {
   "cell_type": "code",
   "execution_count": 19,
   "id": "bb8af968-6c83-4f3e-b1d2-50ecb2be1d5a",
   "metadata": {},
   "outputs": [],
   "source": [
    "from bs4 import BeautifulSoup\n",
    "from selenium import webdriver\n",
    "from selenium.webdriver.chrome.service import Service\n",
    "from selenium.webdriver.support.ui import WebDriverWait"
   ]
  },
  {
   "cell_type": "code",
   "execution_count": 15,
   "id": "bb557d29-a2df-4eff-bf6c-7d010f5a1696",
   "metadata": {},
   "outputs": [],
   "source": [
    "chrome_service = Service(\"util/chromedriver-linux64/chromedriver\")\n",
    "\n",
    "driver = webdriver.Chrome(service=chrome_service)\n",
    "driver.get(\"https://www.zacks.com/stock/research/amd/earnings-calendar\")"
   ]
  },
  {
   "cell_type": "code",
   "execution_count": 20,
   "id": "428e47b3-3ee7-4b76-8ed6-acd265552a66",
   "metadata": {},
   "outputs": [],
   "source": [
    "driver.execute_script(\"\"\"\n",
    "                      dropdown = document.getElementsByName(\"earnings_announcements_earnings_table_length\")[0];\n",
    "                      event = new Event(\"change\");\n",
    "                      dropdown.value = 100;\n",
    "                      dropdown.dispatchEvent(event)\"\"\")\n",
    "\n",
    "try:\n",
    "    WebDriverWait(driver, 0.25).until(\n",
    "        lambda d: len(d.find_elements(By.XPATH, \"//table[@id='earnings_announcements_earnings_table']//td\")) > 20\n",
    "    )\n",
    "    print(\"Condition met: More than 20 <td> elements found.\")\n",
    "except:\n",
    "    print(\"Timeout: Condition not met within 250ms.\")\n",
    "#dropdown = document.getElementsByName(\"earnings_announcements_earnings_table_length\")[0]\n",
    "#event = new Event(\"change\")\n",
    "#dropdown.value = 100\n",
    "#dropdown.dispatchEvent(event)"
   ]
  },
  {
   "cell_type": "code",
   "execution_count": null,
   "id": "4527104b-e05f-4f70-8e77-2c0e78df5ea7",
   "metadata": {},
   "outputs": [],
   "source": []
  }
 ],
 "metadata": {
  "kernelspec": {
   "display_name": "Python 3 (ipykernel)",
   "language": "python",
   "name": "python3"
  },
  "language_info": {
   "codemirror_mode": {
    "name": "ipython",
    "version": 3
   },
   "file_extension": ".py",
   "mimetype": "text/x-python",
   "name": "python",
   "nbconvert_exporter": "python",
   "pygments_lexer": "ipython3",
   "version": "3.10.16"
  }
 },
 "nbformat": 4,
 "nbformat_minor": 5
}
