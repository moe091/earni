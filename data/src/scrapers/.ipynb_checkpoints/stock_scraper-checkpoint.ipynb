{
 "cells": [
  {
   "cell_type": "code",
   "execution_count": 61,
   "id": "0f90c130-842d-403e-bf3e-f9c8630d765d",
   "metadata": {},
   "outputs": [],
   "source": [
    "import yfinance as yf\n",
    "import psycopg2 as pg2\n",
    "import pandas_market_calendars as mcal\n",
    "import traceback\n",
    "import sys\n",
    "import os\n",
    "from datetime import date, timedelta\n",
    "\n",
    "sys.path.append(os.path.abspath(os.path.join(os.getcwd(), '..', '..', 'src')))\n",
    "import database as db\n",
    "\n",
    "nyse = mcal.get_calendar(\"NYSE\")\n",
    "\n",
    "def populate_prices(ticker):\n",
    "    \"\"\"\n",
    "        Populates relative stock prices for all earnings report records for a given ticker\n",
    "    \"\"\"\n",
    "    # pull all records for ticker from earnings_reports - dates = get_dates_for_ticker('f')\n",
    "    # get Date for each record - for d in dates:\n",
    "    # for each date, get the 1d, 2d, 5d, 30d, etc... stock prices (shift -1 if time is Before Hours) - get_prices_for_dates\n",
    "    # insert prices into the earnings_reports table\n",
    "    pass\n"
   ]
  },
  {
   "cell_type": "code",
   "execution_count": 41,
   "id": "2c1f7bec-50a7-47ce-89cc-9e5c3f212816",
   "metadata": {},
   "outputs": [],
   "source": [
    "def get_dates_for_ticker(ticker):\n",
    "    \"\"\"\n",
    "    This method retrieves a list of all the tickers in the database.\n",
    "\n",
    "    Returns:\n",
    "        list: A list of all the tickers in the database.\n",
    "    \"\"\"\n",
    "\n",
    "    conn = db.get_conn() # returns existing db connection, or creates one if needed\n",
    "\n",
    "    with conn.cursor() as curs:\n",
    "        try:\n",
    "            curs.execute(f\"SELECT ticker, date, time_of_report FROM earnings_reports WHERE ticker = '{ticker}'\")\n",
    "            dates = curs.fetchall()\n",
    "        except Exception as e:\n",
    "            print(f\"Failed to get dates from database for ticker {ticker}\", traceback.format_exc())\n",
    "            raise e\n",
    "\n",
    "    print(f\"Retrieved {len(dates)} dates for ticker {ticker}\")\n",
    "\n",
    "    return dates"
   ]
  },
  {
   "cell_type": "code",
   "execution_count": 42,
   "id": "b667d7b2-f2ad-49f6-9522-c2da547c7d7a",
   "metadata": {},
   "outputs": [
    {
     "name": "stdout",
     "output_type": "stream",
     "text": [
      "Retrieved 47 dates for ticker f\n"
     ]
    }
   ],
   "source": [
    "dates = get_dates_for_ticker('f')"
   ]
  },
  {
   "cell_type": "code",
   "execution_count": 44,
   "id": "f61d21f8-ebbf-4f19-b272-657ff7171349",
   "metadata": {},
   "outputs": [
    {
     "name": "stdout",
     "output_type": "stream",
     "text": [
      "f - 2024-10-28 - After Close\n",
      "f - 2024-07-24 - After Close\n",
      "f - 2024-04-24 - After Close\n",
      "f - 2024-02-06 - After Close\n",
      "f - 2023-10-26 - After Close\n",
      "f - 2023-07-27 - After Close\n",
      "f - 2023-05-02 - After Close\n",
      "f - 2023-02-02 - After Close\n",
      "f - 2022-10-26 - After Close\n",
      "f - 2022-07-27 - After Close\n",
      "f - 2022-04-27 - After Close\n",
      "f - 2022-02-03 - After Close\n",
      "f - 2021-10-27 - After Close\n",
      "f - 2021-07-28 - After Close\n",
      "f - 2021-04-28 - After Close\n",
      "f - 2021-02-04 - Before Open\n",
      "f - 2020-10-28 - After Close\n",
      "f - 2020-07-30 - After Close\n",
      "f - 2020-04-28 - After Close\n",
      "f - 2020-02-04 - After Close\n",
      "f - 2019-10-23 - After Close\n",
      "f - 2019-07-24 - After Close\n",
      "f - 2019-04-25 - After Close\n",
      "f - 2019-01-23 - After Close\n",
      "f - 2018-10-24 - After Close\n",
      "f - 2018-07-25 - After Close\n",
      "f - 2018-04-25 - After Close\n",
      "f - 2018-01-24 - After Close\n",
      "f - 2017-10-26 - Before Open\n",
      "f - 2017-07-26 - Before Open\n",
      "f - 2017-04-27 - Before Open\n",
      "f - 2017-01-26 - Before Open\n",
      "f - 2016-10-27 - Before Open\n",
      "f - 2016-07-28 - Before Open\n",
      "f - 2016-04-28 - Before Open\n",
      "f - 2016-01-28 - Before Open\n",
      "f - 2015-10-27 - Before Open\n",
      "f - 2015-07-28 - Before Open\n",
      "f - 2015-01-29 - Before Open\n",
      "f - 2014-10-24 - Before Open\n",
      "f - 2014-07-24 - Before Open\n",
      "f - 2014-01-28 - Before Open\n",
      "f - 2013-10-24 - Before Open\n",
      "f - 2013-07-24 - Before Open\n",
      "f - 2013-04-24 - Before Open\n",
      "f - 2013-01-29 - Before Open\n",
      "f - 2012-10-30 - Before Open\n"
     ]
    }
   ],
   "source": [
    "for d in dates:\n",
    "    print(d[0], d[1], d[2], sep=\" - \")"
   ]
  },
  {
   "cell_type": "code",
   "execution_count": 53,
   "id": "ac1d44bc-c463-4bd1-8f68-7b37ddf0261d",
   "metadata": {},
   "outputs": [],
   "source": [
    "def get_closing_prices(dates):\n",
    "    for d in dates:\n",
    "        ticker, date, time = d\n",
    "        print(f\"\\n{ticker} - {date} - {time}\")\n",
    "        if time == \"Before Open\":\n",
    "            date = date - timedelta(days=1)\n",
    "            print(f\"new date = {date}\")\n",
    "\n",
    "\n",
    "        \n",
    "            "
   ]
  },
  {
   "cell_type": "code",
   "execution_count": 54,
   "id": "d76ae5ef-2539-4d32-9e0f-ef67160871a8",
   "metadata": {},
   "outputs": [
    {
     "name": "stdout",
     "output_type": "stream",
     "text": [
      "\n",
      "f - 2024-10-28 - After Close\n",
      "\n",
      "f - 2024-07-24 - After Close\n",
      "\n",
      "f - 2024-04-24 - After Close\n",
      "\n",
      "f - 2024-02-06 - After Close\n",
      "\n",
      "f - 2023-10-26 - After Close\n",
      "\n",
      "f - 2023-07-27 - After Close\n",
      "\n",
      "f - 2023-05-02 - After Close\n",
      "\n",
      "f - 2023-02-02 - After Close\n",
      "\n",
      "f - 2022-10-26 - After Close\n",
      "\n",
      "f - 2022-07-27 - After Close\n",
      "\n",
      "f - 2022-04-27 - After Close\n",
      "\n",
      "f - 2022-02-03 - After Close\n",
      "\n",
      "f - 2021-10-27 - After Close\n",
      "\n",
      "f - 2021-07-28 - After Close\n",
      "\n",
      "f - 2021-04-28 - After Close\n",
      "\n",
      "f - 2021-02-04 - Before Open\n",
      "new date = 2021-02-03\n",
      "\n",
      "f - 2020-10-28 - After Close\n",
      "\n",
      "f - 2020-07-30 - After Close\n",
      "\n",
      "f - 2020-04-28 - After Close\n",
      "\n",
      "f - 2020-02-04 - After Close\n",
      "\n",
      "f - 2019-10-23 - After Close\n",
      "\n",
      "f - 2019-07-24 - After Close\n",
      "\n",
      "f - 2019-04-25 - After Close\n",
      "\n",
      "f - 2019-01-23 - After Close\n",
      "\n",
      "f - 2018-10-24 - After Close\n",
      "\n",
      "f - 2018-07-25 - After Close\n",
      "\n",
      "f - 2018-04-25 - After Close\n",
      "\n",
      "f - 2018-01-24 - After Close\n",
      "\n",
      "f - 2017-10-26 - Before Open\n",
      "new date = 2017-10-25\n",
      "\n",
      "f - 2017-07-26 - Before Open\n",
      "new date = 2017-07-25\n",
      "\n",
      "f - 2017-04-27 - Before Open\n",
      "new date = 2017-04-26\n",
      "\n",
      "f - 2017-01-26 - Before Open\n",
      "new date = 2017-01-25\n",
      "\n",
      "f - 2016-10-27 - Before Open\n",
      "new date = 2016-10-26\n",
      "\n",
      "f - 2016-07-28 - Before Open\n",
      "new date = 2016-07-27\n",
      "\n",
      "f - 2016-04-28 - Before Open\n",
      "new date = 2016-04-27\n",
      "\n",
      "f - 2016-01-28 - Before Open\n",
      "new date = 2016-01-27\n",
      "\n",
      "f - 2015-10-27 - Before Open\n",
      "new date = 2015-10-26\n",
      "\n",
      "f - 2015-07-28 - Before Open\n",
      "new date = 2015-07-27\n",
      "\n",
      "f - 2015-01-29 - Before Open\n",
      "new date = 2015-01-28\n",
      "\n",
      "f - 2014-10-24 - Before Open\n",
      "new date = 2014-10-23\n",
      "\n",
      "f - 2014-07-24 - Before Open\n",
      "new date = 2014-07-23\n",
      "\n",
      "f - 2014-01-28 - Before Open\n",
      "new date = 2014-01-27\n",
      "\n",
      "f - 2013-10-24 - Before Open\n",
      "new date = 2013-10-23\n",
      "\n",
      "f - 2013-07-24 - Before Open\n",
      "new date = 2013-07-23\n",
      "\n",
      "f - 2013-04-24 - Before Open\n",
      "new date = 2013-04-23\n",
      "\n",
      "f - 2013-01-29 - Before Open\n",
      "new date = 2013-01-28\n",
      "\n",
      "f - 2012-10-30 - Before Open\n",
      "new date = 2012-10-29\n"
     ]
    }
   ],
   "source": [
    "get_closing_prices(dates)"
   ]
  },
  {
   "cell_type": "code",
   "execution_count": 65,
   "id": "a8c38c33-2276-4cf9-98ae-9e50515b8568",
   "metadata": {},
   "outputs": [
    {
     "data": {
      "text/plain": [
       "<module 'pandas_market_calendars' from '/home/moe/miniconda3/envs/earni/lib/python3.10/site-packages/pandas_market_calendars/__init__.py'>"
      ]
     },
     "execution_count": 65,
     "metadata": {},
     "output_type": "execute_result"
    }
   ],
   "source": [
    "d = dates[0][1]\n",
    "d2 = d + timedelta(days=50)\n",
    "mcal"
   ]
  },
  {
   "cell_type": "code",
   "execution_count": 71,
   "id": "11c6828b-6e53-4d8a-8661-fefcf46a458e",
   "metadata": {},
   "outputs": [
    {
     "name": "stdout",
     "output_type": "stream",
     "text": [
      "2024-10-28   |   2024-12-17\n"
     ]
    }
   ],
   "source": [
    "print(d.strftime(\"%Y-%m-%d\"), d2.strftime(\"%Y-%m-%d\"), sep=\"   |   \")"
   ]
  },
  {
   "cell_type": "code",
   "execution_count": 72,
   "id": "69cc7424-58b5-4683-b731-0cf7b6ba3f97",
   "metadata": {},
   "outputs": [
    {
     "name": "stdout",
     "output_type": "stream",
     "text": [
      "start_date= 2024-10-28\n",
      "end_date= 2024-12-17\n"
     ]
    }
   ],
   "source": [
    "print(\"start_date=\", d.strftime(\"%Y-%m-%d\"))\n",
    "print(\"end_date=\", d2.strftime(\"%Y-%m-%d\"))\n",
    "sched = nyse.schedule(start_date=d.strftime(\"%Y-%m-%d\"), end_date=d2.strftime(\"%Y-%m-%d\"))"
   ]
  },
  {
   "cell_type": "code",
   "execution_count": 100,
   "id": "ad37322d-d6e3-4825-ad31-2a9502a8bab4",
   "metadata": {},
   "outputs": [
    {
     "data": {
      "text/plain": [
       "datetime.date(2024, 10, 29)"
      ]
     },
     "execution_count": 100,
     "metadata": {},
     "output_type": "execute_result"
    }
   ],
   "source": [
    "sched.iloc[1].iloc[0].date()"
   ]
  },
  {
   "cell_type": "code",
   "execution_count": 109,
   "id": "a0acb90e-547d-47b3-bcd6-04659fddb8b2",
   "metadata": {},
   "outputs": [],
   "source": [
    "def find_relative_dates(date):\n",
    "    offsets = [1, 2, 3, 4, 5, 10, 20, 30]\n",
    "    rel_dates = []\n",
    "    end_date = date + timedelta(days=50)\n",
    "    print(\"Starting with date: \", date)\n",
    "    \n",
    "    sched = nyse.schedule(start_date=date.strftime(\"%Y-%m-%d\"), end_date=end_date.strftime(\"%Y-%m-%d\"))\n",
    "    \n",
    "    for o in offsets:\n",
    "        odate = sched.iloc[o].iloc[0].date()\n",
    "        rel_dates.append((o, odate))\n",
    "        print(f\"Date at offset {o} is: {odate}\")\n",
    "    # get closing price 1, 2, 3, 4, 5, 10, 30 days after and before date.\n",
    "    # use pandas_market_calendars to get market schedule starting from 'date' and going to 'date' + 60(going over to be safe)\n",
    "    # calendar[1] will be the next market day after the report. calendar[30] will be 30 market days after. etc\n",
    "    # do the same, going from 'date' - 60 to 'date'. calendar[-1] will be the last market day before the report\n",
    "\n",
    "    return rel_dates"
   ]
  },
  {
   "cell_type": "code",
   "execution_count": 110,
   "id": "2b293a83-9eef-45ab-a998-124888479b54",
   "metadata": {},
   "outputs": [
    {
     "name": "stdout",
     "output_type": "stream",
     "text": [
      "Starting with date:  2024-10-28\n",
      "Date at offset 1 is: 2024-10-29\n",
      "Date at offset 2 is: 2024-10-30\n",
      "Date at offset 3 is: 2024-10-31\n",
      "Date at offset 4 is: 2024-11-01\n",
      "Date at offset 5 is: 2024-11-04\n",
      "Date at offset 10 is: 2024-11-11\n",
      "Date at offset 20 is: 2024-11-25\n",
      "Date at offset 30 is: 2024-12-10\n"
     ]
    }
   ],
   "source": [
    "rel_dates = find_relative_dates(d)"
   ]
  },
  {
   "cell_type": "code",
   "execution_count": 111,
   "id": "19d68403-4360-4a54-adde-ae507d3d31e0",
   "metadata": {},
   "outputs": [
    {
     "data": {
      "text/plain": [
       "[(1, datetime.date(2024, 10, 29)),\n",
       " (2, datetime.date(2024, 10, 30)),\n",
       " (3, datetime.date(2024, 10, 31)),\n",
       " (4, datetime.date(2024, 11, 1)),\n",
       " (5, datetime.date(2024, 11, 4)),\n",
       " (10, datetime.date(2024, 11, 11)),\n",
       " (20, datetime.date(2024, 11, 25)),\n",
       " (30, datetime.date(2024, 12, 10))]"
      ]
     },
     "execution_count": 111,
     "metadata": {},
     "output_type": "execute_result"
    }
   ],
   "source": [
    "rel_dates"
   ]
  },
  {
   "cell_type": "code",
   "execution_count": null,
   "id": "3e78e9b8-9824-49c6-9fd2-1b4219efc140",
   "metadata": {},
   "outputs": [],
   "source": []
  }
 ],
 "metadata": {
  "kernelspec": {
   "display_name": "Python 3 (ipykernel)",
   "language": "python",
   "name": "python3"
  },
  "language_info": {
   "codemirror_mode": {
    "name": "ipython",
    "version": 3
   },
   "file_extension": ".py",
   "mimetype": "text/x-python",
   "name": "python",
   "nbconvert_exporter": "python",
   "pygments_lexer": "ipython3",
   "version": "3.10.16"
  }
 },
 "nbformat": 4,
 "nbformat_minor": 5
}
